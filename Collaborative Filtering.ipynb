{
 "cells": [
  {
   "cell_type": "markdown",
   "metadata": {},
   "source": [
    "## Collaborative Filtering Recommendation System"
   ]
  },
  {
   "cell_type": "code",
   "execution_count": 15,
   "metadata": {},
   "outputs": [],
   "source": [
    "# This is based on the idea that similar people based on the data have similar preferences.\n",
    "#  It predicts which item a user will like based on the item preferences of other similar users. This information is gotten from explicit feedback, from ratings or from implicite feedback eg listening purchasing and watching.\n",
    "import numpy as np\n",
    "import pandas as pd\n",
    "import matplotlib.pyplot as plt\n",
    "import seaborn as sns\n",
    "import warnings\n",
    "# Filtering warnings\n",
    "warnings.simplefilter(action=\"ignore\",category=FutureWarning)"
   ]
  },
  {
   "cell_type": "code",
   "execution_count": 16,
   "metadata": {},
   "outputs": [
    {
     "data": {
      "text/html": [
       "<div>\n",
       "<style scoped>\n",
       "    .dataframe tbody tr th:only-of-type {\n",
       "        vertical-align: middle;\n",
       "    }\n",
       "\n",
       "    .dataframe tbody tr th {\n",
       "        vertical-align: top;\n",
       "    }\n",
       "\n",
       "    .dataframe thead th {\n",
       "        text-align: right;\n",
       "    }\n",
       "</style>\n",
       "<table border=\"1\" class=\"dataframe\">\n",
       "  <thead>\n",
       "    <tr style=\"text-align: right;\">\n",
       "      <th></th>\n",
       "      <th>userId</th>\n",
       "      <th>movieId</th>\n",
       "      <th>rating</th>\n",
       "      <th>timestamp</th>\n",
       "    </tr>\n",
       "  </thead>\n",
       "  <tbody>\n",
       "    <tr>\n",
       "      <th>0</th>\n",
       "      <td>1</td>\n",
       "      <td>1</td>\n",
       "      <td>4.0</td>\n",
       "      <td>964982703</td>\n",
       "    </tr>\n",
       "    <tr>\n",
       "      <th>1</th>\n",
       "      <td>1</td>\n",
       "      <td>3</td>\n",
       "      <td>4.0</td>\n",
       "      <td>964981247</td>\n",
       "    </tr>\n",
       "    <tr>\n",
       "      <th>2</th>\n",
       "      <td>1</td>\n",
       "      <td>6</td>\n",
       "      <td>4.0</td>\n",
       "      <td>964982224</td>\n",
       "    </tr>\n",
       "    <tr>\n",
       "      <th>3</th>\n",
       "      <td>1</td>\n",
       "      <td>47</td>\n",
       "      <td>5.0</td>\n",
       "      <td>964983815</td>\n",
       "    </tr>\n",
       "    <tr>\n",
       "      <th>4</th>\n",
       "      <td>1</td>\n",
       "      <td>50</td>\n",
       "      <td>5.0</td>\n",
       "      <td>964982931</td>\n",
       "    </tr>\n",
       "  </tbody>\n",
       "</table>\n",
       "</div>"
      ],
      "text/plain": [
       "   userId  movieId  rating  timestamp\n",
       "0       1        1     4.0  964982703\n",
       "1       1        3     4.0  964981247\n",
       "2       1        6     4.0  964982224\n",
       "3       1       47     5.0  964983815\n",
       "4       1       50     5.0  964982931"
      ]
     },
     "execution_count": 16,
     "metadata": {},
     "output_type": "execute_result"
    }
   ],
   "source": [
    "# Loading the ratings data\n",
    "ratings = pd.read_csv(\"https://s3-us-west-2.amazonaws.com/recommender-tutorial/ratings.csv\")\n",
    "ratings.head()"
   ]
  },
  {
   "cell_type": "code",
   "execution_count": 17,
   "metadata": {},
   "outputs": [
    {
     "data": {
      "text/html": [
       "<div>\n",
       "<style scoped>\n",
       "    .dataframe tbody tr th:only-of-type {\n",
       "        vertical-align: middle;\n",
       "    }\n",
       "\n",
       "    .dataframe tbody tr th {\n",
       "        vertical-align: top;\n",
       "    }\n",
       "\n",
       "    .dataframe thead th {\n",
       "        text-align: right;\n",
       "    }\n",
       "</style>\n",
       "<table border=\"1\" class=\"dataframe\">\n",
       "  <thead>\n",
       "    <tr style=\"text-align: right;\">\n",
       "      <th></th>\n",
       "      <th>movieId</th>\n",
       "      <th>title</th>\n",
       "      <th>genres</th>\n",
       "    </tr>\n",
       "  </thead>\n",
       "  <tbody>\n",
       "    <tr>\n",
       "      <th>0</th>\n",
       "      <td>1</td>\n",
       "      <td>Toy Story (1995)</td>\n",
       "      <td>Adventure|Animation|Children|Comedy|Fantasy</td>\n",
       "    </tr>\n",
       "    <tr>\n",
       "      <th>1</th>\n",
       "      <td>2</td>\n",
       "      <td>Jumanji (1995)</td>\n",
       "      <td>Adventure|Children|Fantasy</td>\n",
       "    </tr>\n",
       "    <tr>\n",
       "      <th>2</th>\n",
       "      <td>3</td>\n",
       "      <td>Grumpier Old Men (1995)</td>\n",
       "      <td>Comedy|Romance</td>\n",
       "    </tr>\n",
       "    <tr>\n",
       "      <th>3</th>\n",
       "      <td>4</td>\n",
       "      <td>Waiting to Exhale (1995)</td>\n",
       "      <td>Comedy|Drama|Romance</td>\n",
       "    </tr>\n",
       "    <tr>\n",
       "      <th>4</th>\n",
       "      <td>5</td>\n",
       "      <td>Father of the Bride Part II (1995)</td>\n",
       "      <td>Comedy</td>\n",
       "    </tr>\n",
       "  </tbody>\n",
       "</table>\n",
       "</div>"
      ],
      "text/plain": [
       "   movieId                               title  \\\n",
       "0        1                    Toy Story (1995)   \n",
       "1        2                      Jumanji (1995)   \n",
       "2        3             Grumpier Old Men (1995)   \n",
       "3        4            Waiting to Exhale (1995)   \n",
       "4        5  Father of the Bride Part II (1995)   \n",
       "\n",
       "                                        genres  \n",
       "0  Adventure|Animation|Children|Comedy|Fantasy  \n",
       "1                   Adventure|Children|Fantasy  \n",
       "2                               Comedy|Romance  \n",
       "3                         Comedy|Drama|Romance  \n",
       "4                                       Comedy  "
      ]
     },
     "execution_count": 17,
     "metadata": {},
     "output_type": "execute_result"
    }
   ],
   "source": [
    "# Loading the movies dataset\n",
    "movies = pd.read_csv(\"https://s3-us-west-2.amazonaws.com/recommender-tutorial/movies.csv\")\n",
    "movies.head()  "
   ]
  },
  {
   "cell_type": "code",
   "execution_count": 18,
   "metadata": {},
   "outputs": [
    {
     "name": "stdout",
     "output_type": "stream",
     "text": [
      "The number of ratings are: 100836\n"
     ]
    }
   ],
   "source": [
    "# Getting all the ratings\n",
    "n_ratings=len(ratings['rating'])\n",
    "print(f\"The number of ratings are: {n_ratings}\")"
   ]
  },
  {
   "cell_type": "code",
   "execution_count": 19,
   "metadata": {},
   "outputs": [
    {
     "data": {
      "text/plain": [
       "[0.5, 1.0, 1.5, 2.0, 2.5, 3.0, 3.5, 4.0, 4.5, 5.0]"
      ]
     },
     "execution_count": 19,
     "metadata": {},
     "output_type": "execute_result"
    }
   ],
   "source": [
    "# Getting the unique ratings\n",
    "n_ratings_unique=ratings['rating'].unique()\n",
    "sorted(n_ratings_unique.tolist())"
   ]
  },
  {
   "cell_type": "code",
   "execution_count": 20,
   "metadata": {},
   "outputs": [
    {
     "name": "stdout",
     "output_type": "stream",
     "text": [
      "The number of unique movies is :9724\n",
      "The number of unique users is: 610\n"
     ]
    }
   ],
   "source": [
    "# The number of Unique movies\n",
    "n_movies=len(ratings['movieId'].unique())\n",
    "print(f\"The number of unique movies is :{n_movies}\")\n",
    "# Number of unique users\n",
    "n_users=len(ratings['userId'].unique())\n",
    "print(f\"The number of unique users is: {n_users}\")"
   ]
  },
  {
   "cell_type": "code",
   "execution_count": 21,
   "metadata": {},
   "outputs": [
    {
     "name": "stdout",
     "output_type": "stream",
     "text": [
      "The average number of ratings per user is: 165.3\n",
      "The average number of ratings per movie is: 10.37\n"
     ]
    }
   ],
   "source": [
    "# Getting the average ratings per user\n",
    "avg_ratings=n_ratings/n_users\n",
    "print(f\"The average number of ratings per user is: {round(avg_ratings,2)}\")\n",
    "# Getting the average movie ratings per movie\n",
    "avg_ratings_movie=n_ratings/n_movies\n",
    "print(f\"The average number of ratings per movie is: {round(avg_ratings_movie,2)}\")"
   ]
  },
  {
   "cell_type": "code",
   "execution_count": 22,
   "metadata": {},
   "outputs": [
    {
     "data": {
      "text/html": [
       "<div>\n",
       "<style scoped>\n",
       "    .dataframe tbody tr th:only-of-type {\n",
       "        vertical-align: middle;\n",
       "    }\n",
       "\n",
       "    .dataframe tbody tr th {\n",
       "        vertical-align: top;\n",
       "    }\n",
       "\n",
       "    .dataframe thead th {\n",
       "        text-align: right;\n",
       "    }\n",
       "</style>\n",
       "<table border=\"1\" class=\"dataframe\">\n",
       "  <thead>\n",
       "    <tr style=\"text-align: right;\">\n",
       "      <th></th>\n",
       "      <th>userId</th>\n",
       "      <th>movieId</th>\n",
       "    </tr>\n",
       "  </thead>\n",
       "  <tbody>\n",
       "    <tr>\n",
       "      <th>0</th>\n",
       "      <td>1</td>\n",
       "      <td>232</td>\n",
       "    </tr>\n",
       "    <tr>\n",
       "      <th>1</th>\n",
       "      <td>2</td>\n",
       "      <td>29</td>\n",
       "    </tr>\n",
       "    <tr>\n",
       "      <th>2</th>\n",
       "      <td>3</td>\n",
       "      <td>39</td>\n",
       "    </tr>\n",
       "    <tr>\n",
       "      <th>3</th>\n",
       "      <td>4</td>\n",
       "      <td>216</td>\n",
       "    </tr>\n",
       "    <tr>\n",
       "      <th>4</th>\n",
       "      <td>5</td>\n",
       "      <td>44</td>\n",
       "    </tr>\n",
       "  </tbody>\n",
       "</table>\n",
       "</div>"
      ],
      "text/plain": [
       "   userId  movieId\n",
       "0       1      232\n",
       "1       2       29\n",
       "2       3       39\n",
       "3       4      216\n",
       "4       5       44"
      ]
     },
     "execution_count": 22,
     "metadata": {},
     "output_type": "execute_result"
    }
   ],
   "source": [
    "# Assessing user frequency\n",
    "user_freq=ratings[[\"userId\",\"movieId\"]].groupby(\"userId\").count().reset_index()\n",
    "user_freq.head()"
   ]
  },
  {
   "cell_type": "code",
   "execution_count": 23,
   "metadata": {},
   "outputs": [
    {
     "data": {
      "text/html": [
       "<div>\n",
       "<style scoped>\n",
       "    .dataframe tbody tr th:only-of-type {\n",
       "        vertical-align: middle;\n",
       "    }\n",
       "\n",
       "    .dataframe tbody tr th {\n",
       "        vertical-align: top;\n",
       "    }\n",
       "\n",
       "    .dataframe thead th {\n",
       "        text-align: right;\n",
       "    }\n",
       "</style>\n",
       "<table border=\"1\" class=\"dataframe\">\n",
       "  <thead>\n",
       "    <tr style=\"text-align: right;\">\n",
       "      <th></th>\n",
       "      <th>movieId</th>\n",
       "      <th>title</th>\n",
       "      <th>genres</th>\n",
       "    </tr>\n",
       "  </thead>\n",
       "  <tbody>\n",
       "    <tr>\n",
       "      <th>2689</th>\n",
       "      <td>3604</td>\n",
       "      <td>Gypsy (1962)</td>\n",
       "      <td>Musical</td>\n",
       "    </tr>\n",
       "  </tbody>\n",
       "</table>\n",
       "</div>"
      ],
      "text/plain": [
       "      movieId         title   genres\n",
       "2689     3604  Gypsy (1962)  Musical"
      ]
     },
     "execution_count": 23,
     "metadata": {},
     "output_type": "execute_result"
    }
   ],
   "source": [
    "# Assessing movie ratings\n",
    "movie_ratings=ratings.groupby('movieId')[['rating']].mean()\n",
    "movie_ratings\n",
    "# Getting the lowest rated movie\n",
    "lowest_rate=movie_ratings['rating'].idxmin()\n",
    "l_movies=movies[movies['movieId']==lowest_rate]\n",
    "l_movies"
   ]
  },
  {
   "cell_type": "code",
   "execution_count": 24,
   "metadata": {},
   "outputs": [
    {
     "data": {
      "text/html": [
       "<div>\n",
       "<style scoped>\n",
       "    .dataframe tbody tr th:only-of-type {\n",
       "        vertical-align: middle;\n",
       "    }\n",
       "\n",
       "    .dataframe tbody tr th {\n",
       "        vertical-align: top;\n",
       "    }\n",
       "\n",
       "    .dataframe thead th {\n",
       "        text-align: right;\n",
       "    }\n",
       "</style>\n",
       "<table border=\"1\" class=\"dataframe\">\n",
       "  <thead>\n",
       "    <tr style=\"text-align: right;\">\n",
       "      <th></th>\n",
       "      <th>movieId</th>\n",
       "      <th>title</th>\n",
       "      <th>genres</th>\n",
       "    </tr>\n",
       "  </thead>\n",
       "  <tbody>\n",
       "    <tr>\n",
       "      <th>48</th>\n",
       "      <td>53</td>\n",
       "      <td>Lamerica (1994)</td>\n",
       "      <td>Adventure|Drama</td>\n",
       "    </tr>\n",
       "  </tbody>\n",
       "</table>\n",
       "</div>"
      ],
      "text/plain": [
       "    movieId            title           genres\n",
       "48       53  Lamerica (1994)  Adventure|Drama"
      ]
     },
     "execution_count": 24,
     "metadata": {},
     "output_type": "execute_result"
    }
   ],
   "source": [
    "# Highest rated movie\n",
    "# Getting the lowest rated movie\n",
    "highest_rate=movie_ratings['rating'].idxmax()\n",
    "h_movies=movies[movies['movieId']==highest_rate]\n",
    "h_movies"
   ]
  },
  {
   "cell_type": "code",
   "execution_count": 25,
   "metadata": {},
   "outputs": [
    {
     "data": {
      "text/html": [
       "<div>\n",
       "<style scoped>\n",
       "    .dataframe tbody tr th:only-of-type {\n",
       "        vertical-align: middle;\n",
       "    }\n",
       "\n",
       "    .dataframe tbody tr th {\n",
       "        vertical-align: top;\n",
       "    }\n",
       "\n",
       "    .dataframe thead th {\n",
       "        text-align: right;\n",
       "    }\n",
       "</style>\n",
       "<table border=\"1\" class=\"dataframe\">\n",
       "  <thead>\n",
       "    <tr style=\"text-align: right;\">\n",
       "      <th></th>\n",
       "      <th>rating</th>\n",
       "      <th>userId</th>\n",
       "    </tr>\n",
       "    <tr>\n",
       "      <th>movieId</th>\n",
       "      <th></th>\n",
       "      <th></th>\n",
       "    </tr>\n",
       "  </thead>\n",
       "  <tbody>\n",
       "    <tr>\n",
       "      <th>3604</th>\n",
       "      <td>0.5</td>\n",
       "      <td>89.0</td>\n",
       "    </tr>\n",
       "  </tbody>\n",
       "</table>\n",
       "</div>"
      ],
      "text/plain": [
       "         rating  userId\n",
       "movieId                \n",
       "3604        0.5    89.0"
      ]
     },
     "execution_count": 25,
     "metadata": {},
     "output_type": "execute_result"
    }
   ],
   "source": [
    "# Assessing the users who rated the movies\n",
    "movie_ratings_user=ratings.groupby('movieId')[['rating','userId']].mean()\n",
    "movie_ratings_user.head()\n",
    "# User that rated the lowest rated movie\n",
    "movie_lowest=movie_ratings_user['rating'].idxmin()\n",
    "# Getting the nameof the user who rated the lowest rated movie\n",
    "lowest_user=movie_ratings_user[movie_ratings_user.index==movie_lowest]\n",
    "lowest_user\n"
   ]
  },
  {
   "cell_type": "code",
   "execution_count": 26,
   "metadata": {},
   "outputs": [
    {
     "data": {
      "text/html": [
       "<div>\n",
       "<style scoped>\n",
       "    .dataframe tbody tr th:only-of-type {\n",
       "        vertical-align: middle;\n",
       "    }\n",
       "\n",
       "    .dataframe tbody tr th {\n",
       "        vertical-align: top;\n",
       "    }\n",
       "\n",
       "    .dataframe thead th {\n",
       "        text-align: right;\n",
       "    }\n",
       "</style>\n",
       "<table border=\"1\" class=\"dataframe\">\n",
       "  <thead>\n",
       "    <tr style=\"text-align: right;\">\n",
       "      <th></th>\n",
       "      <th>rating</th>\n",
       "      <th>userId</th>\n",
       "    </tr>\n",
       "    <tr>\n",
       "      <th>movieId</th>\n",
       "      <th></th>\n",
       "      <th></th>\n",
       "    </tr>\n",
       "  </thead>\n",
       "  <tbody>\n",
       "    <tr>\n",
       "      <th>53</th>\n",
       "      <td>5.0</td>\n",
       "      <td>344.0</td>\n",
       "    </tr>\n",
       "  </tbody>\n",
       "</table>\n",
       "</div>"
      ],
      "text/plain": [
       "         rating  userId\n",
       "movieId                \n",
       "53          5.0   344.0"
      ]
     },
     "execution_count": 26,
     "metadata": {},
     "output_type": "execute_result"
    }
   ],
   "source": [
    "# User that rated the highest rated movie\n",
    "movie_highest=movie_ratings_user['rating'].idxmax()\n",
    "# Getting the name of the user who rated the highest rated movie\n",
    "highest_user=movie_ratings_user[movie_ratings_user.index==movie_highest]\n",
    "highest_user "
   ]
  },
  {
   "cell_type": "code",
   "execution_count": 27,
   "metadata": {},
   "outputs": [],
   "source": [
    "def creating_similarity_matrix(df):\n",
    "    # # Building the  user item matrix by virtue of movies and users\n",
    "    N=len(df['userId'].unique())\n",
    "    # Mapping users(Ids) to indices. This is like giving each user an index\n",
    "    user_mapper= dict(zip(np.unique(df[\"userId\"]),list(range(N))))\n",
    "    user_mapper\n",
    "    # Movie mapper. Unique movies devoid of duplication\n",
    "    M=len(df['movieId'].unique())\n",
    "    # mapping movie ids to indices\n",
    "    movie_mapper=dict(zip(np.unique(df['movieId']),list(range(M))))\n",
    "    movie_mapper\n",
    "    # # A zip function creates an iterator that will aggregate elements from two or more iterables,you  can create a list or a dictionary from it\n",
    "    # # HAVING AN INVERSE OF THE SAME\n",
    "    # # Mapping indices to user Ids\n",
    "    inv_user_mapper=dict(zip(list(range(N)),np.unique(df['userId'])))\n",
    "    # Mapping indices to movie Ids\n",
    "    inv_movie_mapper=dict(zip(list(range(M)),np.unique(df['movieId'])))\n",
    "    # Iterating through each index for each movie to access the movie indexes and user indexes\n",
    "    user_index=[user_mapper[i] for i in df['userId']]\n",
    "    movie_index=[movie_mapper[i] for i in df['movieId']]\n",
    "    # Forming a matrix using the csr format which will map the movie ID's with the user Ids combined with their ratings .\n",
    "    # The shape of this matrix will be  9724 by 610 (as specified by the scipy csr function)\n",
    "    from scipy.sparse import csr_matrix\n",
    "    # Forming the matrix with the ratings as the data (for individual movie and user ratings), the row index as the movie index and the column index as the user index\n",
    "    X=csr_matrix((df['rating'], (movie_index, user_index)), shape=(M, N))\n",
    "    # Results\n",
    "    return X,user_mapper,movie_mapper,inv_user_mapper,inv_movie_mapper\n",
    "# Calling the function\n",
    "X,user_mapper,movie_mapper,inv_user_mapper,inv_movie_mapper=creating_similarity_matrix(ratings)"
   ]
  },
  {
   "cell_type": "markdown",
   "metadata": {},
   "source": [
    "### Building the mock recomender system (Using item based Collaborative Filtering)"
   ]
  },
  {
   "cell_type": "code",
   "execution_count": 28,
   "metadata": {},
   "outputs": [
    {
     "name": "stdout",
     "output_type": "stream",
     "text": [
      "Since you watched the movie:Jumanji (1995)\n",
      "+++++++++++++++++++++++++++++\n",
      "You might also consider watching: \n",
      "Lion King, The (1994)\n",
      "Mrs. Doubtfire (1993)\n",
      "Mask, The (1994)\n",
      "Jurassic Park (1993)\n",
      "Home Alone (1990)\n",
      "Nightmare Before Christmas, The (1993)\n",
      "Aladdin (1992)\n",
      "Beauty and the Beast (1991)\n",
      "Ace Ventura: When Nature Calls (1995)\n",
      "Santa Clause, The (1994)\n"
     ]
    }
   ],
   "source": [
    "def similar_movies(movie_id,k,X):\n",
    "    # Using Knearest neighbours to look for similar movies based on the ratings\n",
    "    from sklearn.neighbors import NearestNeighbors\n",
    "    # Giving each movie an index(identifier)\n",
    "    movie_index=movie_mapper[movie_id]\n",
    "    # Granting the movie indexes a vector based on the Sparse matrix linking each movie to a rating to identify movies with similar ratings\n",
    "    movie_vector=X[movie_index]\n",
    "     # Creating an empty list so as to store each similar movie for every value of k\n",
    "    neighbors_list=[]\n",
    "    k+=1\n",
    "    # Using KNN to indentify the movies neighbours based on the vectors from the sparse matrix X\n",
    "    KNN=NearestNeighbors(n_neighbors=k,algorithm=\"brute\",metric='cosine')\n",
    "    KNN.fit(X)\n",
    "    # Coverting the movie_vector array to a one dimensional array\n",
    "    movie_vector.reshape(1,-1)\n",
    "    # Identifying the neighbours from the nearest neighbours\n",
    "    the_neighbours=KNN.kneighbors(movie_vector,return_distance=False)\n",
    "    the_neighbours\n",
    "       # Iterating through the values of K to add the movie indices to the list\n",
    "    for i in range(0,k):\n",
    "        the_items=the_neighbours.item(i)\n",
    "        neighbors_list.append(inv_movie_mapper[the_items])\n",
    "    neighbors_list.pop(0)\n",
    "    return neighbors_list\n",
    "# Getting the names of those movies based on their indexes\n",
    "movie_title=dict(zip(movies['movieId'],movies['title']))\n",
    "movie_title\n",
    "# Calling the function to get the movie Ids Similar to the movie index\n",
    "movie_id=2\n",
    "similar_ids=similar_movies(movie_id,10,X)\n",
    "print(f\"Since you watched the movie:{movie_title[movie_id]}\")\n",
    "print(\"+++++++++++++++++++++++++++++\")\n",
    "print(\"You might also consider watching: \")\n",
    "# # Iterating through the similar ids to get similar movies\n",
    "for x in similar_ids:\n",
    "    print(movie_title[x])"
   ]
  },
  {
   "cell_type": "markdown",
   "metadata": {},
   "source": [
    "### The Next Phase involves automating the recomender system to multiple movies"
   ]
  }
 ],
 "metadata": {
  "interpreter": {
   "hash": "38740d3277777e2cd7c6c2cc9d8addf5118fdf3f82b1b39231fd12aeac8aee8b"
  },
  "kernelspec": {
   "display_name": "Python 3.9.6 64-bit",
   "language": "python",
   "name": "python3"
  },
  "language_info": {
   "codemirror_mode": {
    "name": "ipython",
    "version": 3
   },
   "file_extension": ".py",
   "mimetype": "text/x-python",
   "name": "python",
   "nbconvert_exporter": "python",
   "pygments_lexer": "ipython3",
   "version": "3.9.6"
  },
  "orig_nbformat": 4
 },
 "nbformat": 4,
 "nbformat_minor": 2
}
